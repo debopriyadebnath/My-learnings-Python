{
 "cells": [
  {
   "cell_type": "code",
   "execution_count": 4,
   "metadata": {},
   "outputs": [],
   "source": [
    "def even(num):\n",
    "    if num%2==0:\n",
    "        return True\n"
   ]
  },
  {
   "cell_type": "code",
   "execution_count": 5,
   "metadata": {},
   "outputs": [
    {
     "data": {
      "text/plain": [
       "True"
      ]
     },
     "execution_count": 5,
     "metadata": {},
     "output_type": "execute_result"
    }
   ],
   "source": [
    "even(38)"
   ]
  },
  {
   "cell_type": "code",
   "execution_count": 1,
   "metadata": {},
   "outputs": [
    {
     "name": "stdout",
     "output_type": "stream",
     "text": [
      "[6, 7, 8, 9]\n"
     ]
    }
   ],
   "source": [
    "## filter with lambda function\n",
    "numbers=[1,2,3,4,5,6,7,8,9]\n",
    "greater_than_five=list(filter(lambda x:x>5,numbers))\n",
    "print(greater_than_five)"
   ]
  },
  {
   "cell_type": "code",
   "execution_count": 2,
   "metadata": {},
   "outputs": [
    {
     "name": "stdout",
     "output_type": "stream",
     "text": [
      "[6, 8]\n"
     ]
    }
   ],
   "source": [
    "##filter with lambda function and multiple conditions\n",
    "numbers=[1,2,3,4,5,6,7,8,9]\n",
    "even_and_greater_than_five=list(filter(lambda x:x>5 and x%2==0 ,numbers))\n",
    "print(even_and_greater_than_five)"
   ]
  },
  {
   "cell_type": "code",
   "execution_count": 4,
   "metadata": {},
   "outputs": [
    {
     "data": {
      "text/plain": [
       "[{'name': 'Raj', 'age': 33}, {'name': 'neha', 'age': 46}]"
      ]
     },
     "execution_count": 4,
     "metadata": {},
     "output_type": "execute_result"
    }
   ],
   "source": [
    "## filter to check if the age is greater than 25 in dictionaries\n",
    "people=[\n",
    "    {'name':'Raj','age':33},\n",
    "    {'name':'neha','age':46},\n",
    "    {'name':'john','age':25}\n",
    "\n",
    "]\n",
    "\n",
    "def age_greater_than_25(person):\n",
    "    return person['age']>25\n",
    "\n",
    "\n",
    "list(filter(age_greater_than_25,people))"
   ]
  }
 ],
 "metadata": {
  "kernelspec": {
   "display_name": ".venv",
   "language": "python",
   "name": "python3"
  },
  "language_info": {
   "codemirror_mode": {
    "name": "ipython",
    "version": 3
   },
   "file_extension": ".py",
   "mimetype": "text/x-python",
   "name": "python",
   "nbconvert_exporter": "python",
   "pygments_lexer": "ipython3",
   "version": "3.12.4"
  }
 },
 "nbformat": 4,
 "nbformat_minor": 2
}
