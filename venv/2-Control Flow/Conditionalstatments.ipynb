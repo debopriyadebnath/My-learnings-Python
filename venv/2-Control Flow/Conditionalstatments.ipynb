{
 "cells": [
  {
   "cell_type": "code",
   "execution_count": 4,
   "metadata": {},
   "outputs": [
    {
     "name": "stdout",
     "output_type": "stream",
     "text": [
      "You are allowed to vote in the elections\n"
     ]
    }
   ],
   "source": [
    "##if statement\n",
    "\n",
    "age=28\n",
    "\n",
    "if age>=18:\n",
    "    print(\"You are allowed to vote in the elections\")\n"
   ]
  },
  {
   "cell_type": "code",
   "execution_count": 5,
   "metadata": {},
   "outputs": [
    {
     "data": {
      "text/plain": [
       "True"
      ]
     },
     "execution_count": 5,
     "metadata": {},
     "output_type": "execute_result"
    }
   ],
   "source": [
    "age>=18"
   ]
  },
  {
   "cell_type": "code",
   "execution_count": 1,
   "metadata": {},
   "outputs": [
    {
     "name": "stdout",
     "output_type": "stream",
     "text": [
      "You are a minor\n"
     ]
    }
   ],
   "source": [
    "##else (the else statement executes a block of code if the condition in the if statement is False) \n",
    "age=16\n",
    "\n",
    "if age>=18:\n",
    "    print(\"You are eligible for voting\")\n",
    "else:\n",
    "    print(\"You are a minor\")"
   ]
  },
  {
   "cell_type": "code",
   "execution_count": 3,
   "metadata": {},
   "outputs": [
    {
     "name": "stdout",
     "output_type": "stream",
     "text": [
      "You are a teenager\n"
     ]
    }
   ],
   "source": [
    "##elif(The elif statement allows you to check multiple conditions. It stands for \"else if\")\n",
    "\n",
    "age=17\n",
    "\n",
    "if age<13:\n",
    "    print(\"You are a child\")\n",
    "elif age<18:\n",
    "    print(\"You are a teenager\")\n",
    "else:\n",
    "    print(\"You are an adult\")\n",
    "\n"
   ]
  },
  {
   "cell_type": "code",
   "execution_count": 11,
   "metadata": {},
   "outputs": [
    {
     "name": "stdout",
     "output_type": "stream",
     "text": [
      "The number is  zero or negative\n"
     ]
    }
   ],
   "source": [
    "##Nested conditional statements\n",
    "#You can place one or more if,elif, or else statements inside another if,elif, or else statement to create nested conditional statements.\n",
    "\n",
    "##number even, odd, negative\n",
    "\n",
    "num=int(input(\"Enter the number\"))\n",
    "if num>0:\n",
    "    print(\"The number is positive\")\n",
    "    if num%2==0:\n",
    "       print(\"The number is even\")\n",
    "    else:\n",
    "        print(\"The number is odd\")\n",
    "\n",
    "else:\n",
    "    print(\"The number is  zero or negative\")\n",
    "\n",
    "\n"
   ]
  },
  {
   "cell_type": "code",
   "execution_count": 12,
   "metadata": {},
   "outputs": [
    {
     "name": "stdout",
     "output_type": "stream",
     "text": [
      "2498 is not a leap year\n"
     ]
    }
   ],
   "source": [
    "##Practical Example\n",
    "##Determine if a year is a leap year using nested condition statement\n",
    "\n",
    "year=int(input(\"Enter the year\"))\n",
    "\n",
    "if (year%4==0):\n",
    "    if year%100==0:\n",
    "        if year%400==0:\n",
    "            print(year,\"is a leap year\")\n",
    "        else:\n",
    "            print(year,\"is not a leap year\")\n",
    "    else:\n",
    "            print(year,\"is a leap year\")\n",
    "else:\n",
    "    print(year,\"is not a leap year\")\n"
   ]
  },
  {
   "cell_type": "code",
   "execution_count": 13,
   "metadata": {},
   "outputs": [
    {
     "name": "stdout",
     "output_type": "stream",
     "text": [
      "Result: 58.0\n"
     ]
    }
   ],
   "source": [
    "##Simple calculator\n",
    "#Take user input\n",
    "num1= float(input(\"Enter first number:\"))\n",
    "num2= float(input(\"Enter second number: \"))\n",
    "operation= input(\"Enter operation(+,-,*,/):\")\n",
    "\n",
    "#Perform the requested operation\n",
    "if operation== '+':\n",
    "    result=num1+num2\n",
    "elif operation== '-':\n",
    "    result=num1-num2\n",
    "elif operation== '*':\n",
    "    result= num1*num2\n",
    "elif operation== '/':\n",
    "    if num2 !=0:\n",
    "        result=num1/num2\n",
    "    else:\n",
    "        result=\"Error! Division by Zero.\"\n",
    "else:\n",
    "    result= \"Invalid operation.\"\n",
    "\n",
    "print(\"Result:\", result)"
   ]
  },
  {
   "cell_type": "code",
   "execution_count": 14,
   "metadata": {},
   "outputs": [
    {
     "name": "stdout",
     "output_type": "stream",
     "text": [
      "Ticket price: $20\n"
     ]
    }
   ],
   "source": [
    "##Determine the ticket price based on age and whether the person is a student.\n",
    "\n",
    "age=int(input(\"Enter yoyr age: \"))\n",
    "is_student= input(\"Are you a student? (yes/no):\").lower()\n",
    "\n",
    "if age<5:\n",
    "    price=\"Free\"\n",
    "elif age<= 12:\n",
    "    price=\"$10\"\n",
    "elif age<=17:\n",
    "    if is_student=='yes':\n",
    "        price=\"$12\"\n",
    "    else:\n",
    "        price=\"$15\"\n",
    "elif age<= 64:\n",
    "    if is_student=='yes':\n",
    "        price=\"$18\"\n",
    "    else:\n",
    "        price=\"$25\"\n",
    "else:\n",
    "    price=\"$20\"\n",
    "print(\"Ticket price:\", price)\n",
    "\n",
    "     "
   ]
  }
 ],
 "metadata": {
  "kernelspec": {
   "display_name": "Python 3",
   "language": "python",
   "name": "python3"
  },
  "language_info": {
   "codemirror_mode": {
    "name": "ipython",
    "version": 3
   },
   "file_extension": ".py",
   "mimetype": "text/x-python",
   "name": "python",
   "nbconvert_exporter": "python",
   "pygments_lexer": "ipython3",
   "version": "3.12.0"
  }
 },
 "nbformat": 4,
 "nbformat_minor": 2
}
