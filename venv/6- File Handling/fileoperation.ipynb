{
 "cells": [
  {
   "cell_type": "code",
   "execution_count": 1,
   "metadata": {},
   "outputs": [
    {
     "name": "stdout",
     "output_type": "stream",
     "text": [
      "hello how are you\n",
      "i am good\n",
      "raj is my name\n",
      "welcome to the course\n"
     ]
    }
   ],
   "source": [
    "## Read a whole file\n",
    "\n",
    "with open('example.txt','r')as file:\n",
    "    content=file.read()\n",
    "    print(content)"
   ]
  },
  {
   "cell_type": "code",
   "execution_count": null,
   "metadata": {},
   "outputs": [
    {
     "name": "stdout",
     "output_type": "stream",
     "text": [
      "hello how are you\n",
      "i am good\n",
      "raj is my name\n",
      "welcome to the course\n"
     ]
    }
   ],
   "source": [
    "## read a file line by line\n",
    "\n",
    "with open('example.txt','r')as file:\n",
    "    for line in file:\n",
    "        print(line.strip()) ##.strip removes the newline char"
   ]
  },
  {
   "cell_type": "code",
   "execution_count": 5,
   "metadata": {},
   "outputs": [],
   "source": [
    "### writing a file (overwriting)\n",
    "\n",
    "with open ('example.txt','w') as file :\n",
    "    file.write('hello world!\\n')\n",
    "    file.write('this is a new line.')"
   ]
  },
  {
   "cell_type": "code",
   "execution_count": 8,
   "metadata": {},
   "outputs": [],
   "source": [
    "## write a file without overwriting\n",
    "\n",
    "with open('example.txt','a')as file:\n",
    "    file.write(\"append operation taking place!\\n\")"
   ]
  },
  {
   "cell_type": "code",
   "execution_count": 9,
   "metadata": {},
   "outputs": [],
   "source": [
    "## writing a list of line to a file\n",
    "\n",
    "lines=['first line\\n','second line\\n','third line\\n']\n",
    "with open('example.txt','a')as file:\n",
    "    file.writelines(lines)"
   ]
  },
  {
   "cell_type": "code",
   "execution_count": 10,
   "metadata": {},
   "outputs": [],
   "source": [
    "### binary files\n",
    "\n",
    "#writing  to a binary file\n",
    "\n",
    "data=b'\\x00\\x01\\x02\\x03\\x04'\n",
    "with open('example.bin','wb')as file:\n",
    "    file.write(data)\n"
   ]
  },
  {
   "cell_type": "code",
   "execution_count": 11,
   "metadata": {},
   "outputs": [
    {
     "name": "stdout",
     "output_type": "stream",
     "text": [
      "b'\\x00\\x01\\x02\\x03\\x04'\n"
     ]
    }
   ],
   "source": [
    "## reading  a binary file\n",
    "\n",
    "with open('example.bin','rb')as file:\n",
    "    content = file.read()\n",
    "    print(content)\n"
   ]
  },
  {
   "cell_type": "code",
   "execution_count": 12,
   "metadata": {},
   "outputs": [],
   "source": [
    "## read the content from source text file and write it tp a destination text file\n",
    "\n",
    "# copying a text file\n",
    "with open('example.txt','r')as source_file:\n",
    "    content= source_file.read()\n",
    "\n",
    "with open('destination.txt','w')as destination_file:\n",
    "    destination_file.write(content)\n"
   ]
  },
  {
   "cell_type": "code",
   "execution_count": 14,
   "metadata": {},
   "outputs": [
    {
     "name": "stdout",
     "output_type": "stream",
     "text": [
      "lines:6,words:23,characters:158\n"
     ]
    }
   ],
   "source": [
    "##read a text file and count the number of lines , words and char.\n",
    "\n",
    "def count_text_file(file_path):\n",
    "    with open(file_path,'r') as file :\n",
    "        lines= file.readlines ()\n",
    "        line_count=len(lines)\n",
    "        word_count= sum(len(line.split())for line in lines)\n",
    "        char_count= sum(len(line)for line in lines)\n",
    "\n",
    "    return line_count, word_count, char_count\n",
    "\n",
    "file_path='example.txt'\n",
    "lines, words, characters= count_text_file(file_path)\n",
    "print(f'lines:{lines},words:{words},characters:{characters}')"
   ]
  },
  {
   "cell_type": "code",
   "execution_count": 16,
   "metadata": {},
   "outputs": [
    {
     "name": "stdout",
     "output_type": "stream",
     "text": [
      "hello world\n",
      "this is a new line \n",
      "\n"
     ]
    }
   ],
   "source": [
    "### writing and then reading a file\n",
    "\n",
    "with open('example.txt','w+')as file:\n",
    "     file.write(\"hello world\\n\")\n",
    "     file.write(\"this is a new line \\n\")\n",
    "\n",
    "     ## move the file cursor to the beginning\n",
    "     file.seek(0)\n",
    "\n",
    "     ##read the content of the file \n",
    "     content=file.read()\n",
    "     print(content)\n"
   ]
  }
 ],
 "metadata": {
  "kernelspec": {
   "display_name": ".venv",
   "language": "python",
   "name": "python3"
  },
  "language_info": {
   "codemirror_mode": {
    "name": "ipython",
    "version": 3
   },
   "file_extension": ".py",
   "mimetype": "text/x-python",
   "name": "python",
   "nbconvert_exporter": "python",
   "pygments_lexer": "ipython3",
   "version": "3.12.4"
  }
 },
 "nbformat": 4,
 "nbformat_minor": 2
}
